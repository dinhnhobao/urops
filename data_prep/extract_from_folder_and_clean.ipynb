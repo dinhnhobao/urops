{
 "cells": [
  {
   "cell_type": "code",
   "execution_count": null,
   "metadata": {},
   "outputs": [],
   "source": [
    "import os\n",
    "\n",
    "new_day = \"3\"\n",
    "\n",
    "for pict in os.listdir(\"../pictures_dump/\"):\n",
    "    if pict != '.DS_Store':\n",
    "        os.rename(\"../pictures_dump/\" + pict,\n",
    "                 \"../pictures_dump/\" + pict[:9] + new_day + pict[10:])"
   ]
  },
  {
   "cell_type": "code",
   "execution_count": 1,
   "metadata": {},
   "outputs": [],
   "source": [
    "import os\n",
    "\n",
    "os.getcwd()\n",
    "\n",
    "os.remove(\"../data/cropped/.DS_Store\")\n",
    "\n",
    "for directory in os.listdir(\"../data/cropped/\"):\n",
    "    try:\n",
    "        os.remove(directory + \"/.DS_Store\")\n",
    "    except:\n",
    "        print(\"Not there.\")\n",
    "        \n",
    "for directory in os.listdir(\"../data/cropped/\"):\n",
    "    for pict in os.listdir(\"../data/cropped/\" + directory):\n",
    "        os.rename(\"../data/cropped/\" + directory + \"/\" + pict,\n",
    "                 \"../data/cropped/\" + pict)\n",
    "        \n"
   ]
  }
 ],
 "metadata": {
  "kernelspec": {
   "display_name": "Python 3",
   "language": "python",
   "name": "python3"
  },
  "language_info": {
   "codemirror_mode": {
    "name": "ipython",
    "version": 3
   },
   "file_extension": ".py",
   "mimetype": "text/x-python",
   "name": "python",
   "nbconvert_exporter": "python",
   "pygments_lexer": "ipython3",
   "version": "3.6.5"
  }
 },
 "nbformat": 4,
 "nbformat_minor": 2
}
