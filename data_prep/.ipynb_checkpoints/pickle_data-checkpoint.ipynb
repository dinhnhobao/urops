{
 "cells": [
  {
   "cell_type": "code",
   "execution_count": 1,
   "metadata": {},
   "outputs": [],
   "source": [
    "import os\n",
    "import re\n",
    "import gc\n",
    "\n",
    "import cv2\n",
    "import numpy as np\n",
    "import pandas as pd\n",
    "from sklearn.model_selection import train_test_split, StratifiedShuffleSplit\n",
    "\n",
    "import pickle_wrapper\n",
    "\n",
    "os.chdir(\"../data/cropped\")"
   ]
  },
  {
   "cell_type": "code",
   "execution_count": 2,
   "metadata": {},
   "outputs": [],
   "source": [
    "seed = 1 # Controls the randomness of set-splitting below.\n",
    "\n",
    "num_classes = 2 # The classes are \"0\" ... \"num_classes - 1\".\n",
    "image_width = 128\n",
    "image_height = 128\n",
    "num_channels = 3 # RGB color images have three channels.\n",
    "\n",
    "train_prop = 0.8\n",
    "test_prop = 0.1\n",
    "num_splits = 1 # The \"K\" in K-fold cross validation."
   ]
  },
  {
   "cell_type": "code",
   "execution_count": 3,
   "metadata": {},
   "outputs": [
    {
     "name": "stdout",
     "output_type": "stream",
     "text": [
      "No .DS_Store in ../data/cropped.\n",
      "No .DS_Store in ../data/cropped_2018-07-19.\n",
      "No .DS_Store in ../data/cropped_2018-07-17.\n",
      "No .DS_Store in ../data/cropped_2018-07-16.\n",
      "No .DS_Store in ../data/cropped_2018-07-11.\n",
      "No .DS_Store in ../data/cropped_2018-07-18.\n",
      "No .DS_Store in ../data/cropped_2018-06-29.\n",
      "No .DS_Store in ../data/cropped_2018-06-20.\n",
      "No .DS_Store in ../data/cropped_2018-06-21.\n",
      "No .DS_Store in ../data/cropped_2018-06-19.\n",
      "No .DS_Store in ../data/cropped_2018-07-02.\n",
      "No .DS_Store in ../data/cropped_2018-07-04.\n",
      "No .DS_Store in ../data/cropped_2018-07-03.\n",
      "No .DS_Store in ../data/cropped_2018-07-14.\n",
      "No .DS_Store in ../data/cropped_2018-07-23.\n",
      "No .DS_Store in ../data/cropped_2018-07-24.\n",
      "No .DS_Store in ../data/cropped_2018-06-15.\n",
      "No .DS_Store in ../data/cropped_2018-06-23.\n",
      "No .DS_Store in ../data/cropped_2018-06-22.\n",
      "No .DS_Store in ../data/cropped_2018-06-14.\n",
      "No .DS_Store in ../data/cropped_2018-07-06.\n",
      "No .DS_Store in ../data/cropped_2018-07-09.\n"
     ]
    }
   ],
   "source": [
    "# Clean all unwanted, hidden system files in the working directory.\n",
    "# In OS X, one such file is \".DS_Store\".\n",
    "# Such files can interfere with the data processing below.\n",
    "\n",
    "unwanted_files = [\".DS_Store\"]\n",
    "for file in unwanted_files:\n",
    "    try:\n",
    "        os.remove(file)\n",
    "    except:\n",
    "        print(f\"No {file} in ../data/cropped.\")\n",
    "\n",
    "for file in unwanted_files:\n",
    "    for directory in os.listdir():\n",
    "        try:\n",
    "            os.remove(directory + \"/\" + file)\n",
    "            print(f\"Removed {file} in {directory}\")\n",
    "        except:\n",
    "            print(f\"No {file} in ../data/{directory}.\")"
   ]
  },
  {
   "cell_type": "code",
   "execution_count": 4,
   "metadata": {
    "scrolled": false
   },
   "outputs": [
    {
     "name": "stdout",
     "output_type": "stream",
     "text": [
      "Non-jpeg files in ../data/cropped_2018-07-19: 0.\n",
      "Non-jpeg files in ../data/cropped_2018-07-17: 0.\n",
      "Non-jpeg files in ../data/cropped_2018-07-16: 0.\n",
      "Non-jpeg files in ../data/cropped_2018-07-11: 0.\n",
      "Non-jpeg files in ../data/cropped_2018-07-18: 0.\n",
      "Non-jpeg files in ../data/cropped_2018-06-29: 0.\n",
      "Non-jpeg files in ../data/cropped_2018-06-20: 0.\n",
      "Non-jpeg files in ../data/cropped_2018-06-21: 0.\n",
      "Non-jpeg files in ../data/cropped_2018-06-19: 0.\n",
      "Non-jpeg files in ../data/cropped_2018-07-02: 0.\n",
      "Non-jpeg files in ../data/cropped_2018-07-04: 0.\n",
      "Non-jpeg files in ../data/cropped_2018-07-03: 0.\n",
      "Non-jpeg files in ../data/cropped_2018-07-14: 0.\n",
      "Non-jpeg files in ../data/cropped_2018-07-23: 0.\n",
      "Non-jpeg files in ../data/cropped_2018-07-24: 0.\n",
      "Non-jpeg files in ../data/cropped_2018-06-15: 0.\n",
      "Non-jpeg files in ../data/cropped_2018-06-23: 0.\n",
      "Non-jpeg files in ../data/cropped_2018-06-22: 0.\n",
      "Non-jpeg files in ../data/cropped_2018-06-14: 0.\n",
      "Non-jpeg files in ../data/cropped_2018-07-06: 0.\n",
      "Non-jpeg files in ../data/cropped_2018-07-09: 0.\n",
      "\n",
      "There are 50000 examples.\n",
      "\n",
      "There are 0 unlabelled examples.\n"
     ]
    }
   ],
   "source": [
    "# Verify that each file in every (sub)directory is an image file.\n",
    "for directory in os.listdir():\n",
    "    total_non_image_files = 0\n",
    "    for file in os.listdir(directory):\n",
    "        if not re.search(\".jpg\", file):\n",
    "            total_non_image_files += 1\n",
    "            print(f\"Non-image file exists: {file}\")\n",
    "    print(f\"Non-jpeg files in ../data/{directory}: {total_non_image_files}.\")\n",
    "print()\n",
    "\n",
    "# Find total number of examples, \"num_examples\".\n",
    "num_examples = 0\n",
    "for directory in os.listdir():\n",
    "    num_examples += len(os.listdir(directory))\n",
    "print(f\"There are {num_examples} examples.\",\n",
    "      end=\"\\n\\n\")\n",
    "\n",
    "# Verify that each example has a label.\n",
    "num_errors = 0\n",
    "for directory in os.listdir():\n",
    "    labels = pd.read_csv(f\"../labels/{directory[8:]}.csv\")\n",
    "    for pict in os.listdir(directory):\n",
    "        if pict[:len(pict) - 4] not in labels[\"date_id\"].values:\n",
    "            print(f\"{pict} is without a label.\")\n",
    "print(f\"There are {num_errors} unlabelled examples.\")"
   ]
  },
  {
   "cell_type": "code",
   "execution_count": 5,
   "metadata": {},
   "outputs": [
    {
     "name": "stdout",
     "output_type": "stream",
     "text": [
      "Filling in X and y...done.\n"
     ]
    }
   ],
   "source": [
    "# Create example and label matrices.\n",
    "\n",
    "print(\"Filling in X and y...\",\n",
    "      end=\"\")\n",
    "y = np.zeros(shape=(num_examples,\n",
    "                    num_classes))\n",
    "X = np.empty(shape=(num_examples,\n",
    "                    image_width,\n",
    "                    image_height,\n",
    "                    num_channels))\n",
    "index = 0\n",
    "for directory in os.listdir():\n",
    "    labels = pd.read_csv(f\"../labels/{directory[8:]}.csv\")\n",
    "    for pict in os.listdir(directory):\n",
    "        X[index] = cv2.imread(f\"{directory}/{pict}\").astype(\"float64\") # Note X[index] is BGR, not RGB.\n",
    "        label = labels.loc[labels[\"date_id\"] == pict[:len(pict) - 4], \"label\"]\n",
    "        try:\n",
    "            y[index][int(label.iloc[0])] = 1\n",
    "        except:\n",
    "            print()\n",
    "            print(f\"Invalid label for {pict[:len(pict) - 4]}.jpeg, label: {label.iloc[0]}.\")\n",
    "        index += 1\n",
    "print(\"done.\")"
   ]
  },
  {
   "cell_type": "code",
   "execution_count": null,
   "metadata": {},
   "outputs": [
    {
     "name": "stdout",
     "output_type": "stream",
     "text": [
      "Splitting data...done.\n",
      "Perform mean-subtraction and normalization of test set..."
     ]
    }
   ],
   "source": [
    "# Obtain, perform mean-subtraction and normalization on,\n",
    "# and pickle the test set.\n",
    "\n",
    "print(\"Splitting data...\",\n",
    "      end=\"\")\n",
    "train_X, test_X, train_y, test_y = train_test_split(X,\n",
    "                                                    y,\n",
    "                                                    test_size=test_prop,\n",
    "                                                    random_state=seed)\n",
    "del X, y\n",
    "gc.collect()\n",
    "print(\"done.\")\n",
    "\n",
    "print(\"Perform mean-subtraction and normalization of test set...\",\n",
    "      end=\"\")\n",
    "train_mean, train_sd = train_X.mean(), train_X.std()\n",
    "test_X = (test_X - train_mean) / train_sd\n",
    "print(\"done.\")\n",
    "\n",
    "print(\"Pickling test set...\",\n",
    "      end=\"\")\n",
    "base_path = \"../pickles/\"\n",
    "pickle_wrapper.pickle_dump(test_X,\n",
    "                           base_path + \"test_X.npy\")\n",
    "del test_X\n",
    "gc.collect()\n",
    "pickle_wrapper.pickle_dump(test_y,\n",
    "                           base_path + \"test_y.npy\")\n",
    "del test_y\n",
    "gc.collect()\n",
    "pickle_wrapper.pickle_dump((train_mean, train_sd),\n",
    "                           base_path + \"train_mean_sd_0.tuple\")\n",
    "del train_mean, train_sd\n",
    "gc.collect()\n",
    "print(\"done.\")"
   ]
  },
  {
   "cell_type": "code",
   "execution_count": null,
   "metadata": {
    "scrolled": false
   },
   "outputs": [],
   "source": [
    "# Obtain, perform mean-subtraction and normalization on,\n",
    "# and pickle all train and validation sets.\n",
    "\n",
    "print(\"Pickling training and validation sets...\",\n",
    "      end=\"\\n\\n\")\n",
    "\n",
    "val_prop = pickle_wrapper.find_adjusted_val_prop(1 - train_prop - test_prop,\n",
    "                                               test_prop,\n",
    "                                               num_examples)\n",
    "\n",
    "get_sss_indices = StratifiedShuffleSplit(n_splits=num_splits,\n",
    "                                         test_size=val_prop,\n",
    "                                         random_state=seed)\n",
    "\n",
    "split_num = 1\n",
    "for train_index, validation_index in get_sss_indices.split(train_X, train_y):\n",
    "    print(f\"Pickling split number {split_num}.\")\n",
    "    curr_train_X = train_X[train_index]\n",
    "    curr_train_mean, curr_train_sd = curr_train_X.mean(), curr_train_X.std()\n",
    "    curr_train_X = (curr_train_X - curr_train_mean) / curr_train_sd\n",
    "    pickle_wrapper.pickle_dump((curr_train_mean, curr_train_sd),\n",
    "                         base_path + f\"train_mean_sd_{split_num}.tuple\")\n",
    "    del curr_train_mean, curr_train_sd\n",
    "    gc.collect()\n",
    "    pickle_wrapper.pickle_dump(curr_train_X,\n",
    "                             base_path + f\"train_X_{split_num}.npy\")\n",
    "    del curr_train_X\n",
    "    gc.collect()\n",
    "    curr_validation_X = train_X[validation_index]\n",
    "    pickle_wrapper.pickle_dump(curr_validation_X,\n",
    "                             base_path + f\"validation_X_{split_num}.npy\")\n",
    "    del curr_validation_X\n",
    "    gc.collect()\n",
    "    curr_train_y = train_y[train_index]\n",
    "    pickle_wrapper.pickle_dump(curr_train_y,\n",
    "                             base_path + f\"train_y_{split_num}.npy\")\n",
    "    del curr_train_y\n",
    "    gc.collect()\n",
    "    curr_validation_y = train_y[validation_index]\n",
    "    pickle_wrapper.pickle_dump(curr_validation_y,\n",
    "                             base_path + f\"validation_y_{split_num}.npy\")\n",
    "    del curr_validation_y\n",
    "    gc.collect()\n",
    "    \n",
    "    split_num += 1\n",
    "    time.sleep(swap_usage_reduction_downtime)\n",
    "    print()\n",
    "\n",
    "del train_X, train_y\n",
    "gc.collect()\n",
    "\n",
    "print(\"...done.\")"
   ]
  }
 ],
 "metadata": {
  "kernelspec": {
   "display_name": "Python 3",
   "language": "python",
   "name": "python3"
  },
  "language_info": {
   "codemirror_mode": {
    "name": "ipython",
    "version": 3
   },
   "file_extension": ".py",
   "mimetype": "text/x-python",
   "name": "python",
   "nbconvert_exporter": "python",
   "pygments_lexer": "ipython3",
   "version": "3.6.5"
  }
 },
 "nbformat": 4,
 "nbformat_minor": 2
}
