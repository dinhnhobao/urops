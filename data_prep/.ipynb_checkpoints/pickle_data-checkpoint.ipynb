{
 "cells": [
  {
   "cell_type": "code",
   "execution_count": null,
   "metadata": {},
   "outputs": [],
   "source": [
    "import os\n",
    "import glob\n",
    "\n",
    "import cv2\n",
    "import numpy as np\n",
    "\n",
    "os.chdir(\"/Users/nurmister/Documents/academic/urops/data_prep/\")\n",
    "\n",
    "import data_manager\n",
    "\n",
    "os.chdir(\"/Users/nurmister/Documents/academic/urops/data/\")\n",
    "\n",
    "\n",
    "all_instances = [file for file in glob.glob(\"*#*\")]\n",
    "num_instances = len(all_instances)\n",
    "y = np.empty(shape=(num_instances, 1), dtype=\"int32\")\n",
    "X = np.empty(shape=(num_instances, 128, 128, 3), dtype=\"float32\")\n",
    "\n",
    "for file_index in range(num_instances):\n",
    "    fname = all_instances[file_index]\n",
    "    X[file_index] = cv2.imread(fname)  # Note: BGR, not RGB.\n",
    "    y[file_index] = 1\n",
    "\n",
    "base_path = \"../pickles/all\"\n",
    "path_X = base_path + \"_X.npy\"\n",
    "path_y = base_path + \"_y.npy\"\n",
    "data_manager.pickle_dump(X, path_X)\n",
    "data_manager.pickle_dump(y, path_y)"
   ]
  }
 ],
 "metadata": {
  "kernelspec": {
   "display_name": "Python 3",
   "language": "python",
   "name": "python3"
  },
  "language_info": {
   "codemirror_mode": {
    "name": "ipython",
    "version": 3
   },
   "file_extension": ".py",
   "mimetype": "text/x-python",
   "name": "python",
   "nbconvert_exporter": "python",
   "pygments_lexer": "ipython3",
   "version": "3.6.5"
  }
 },
 "nbformat": 4,
 "nbformat_minor": 2
}
