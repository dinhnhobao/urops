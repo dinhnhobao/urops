{
 "cells": [
  {
   "cell_type": "code",
   "execution_count": 1,
   "metadata": {},
   "outputs": [
    {
     "name": "stdout",
     "output_type": "stream",
     "text": [
      "No .DS_Store here.\n",
      "No .DS_Store at cropped_2018-06-29\n",
      "No .DS_Store at cropped_2018-06-20\n",
      "No .DS_Store at cropped_2018-06-21\n",
      "No .DS_Store at cropped_2018-06-19\n",
      "No .DS_Store at cropped_2018-07-02\n",
      "No .DS_Store at cropped_2018-07-04\n",
      "No .DS_Store at cropped_2018-07-03\n",
      "No .DS_Store at cropped_2018-06-15\n",
      "No .DS_Store at cropped_2018-06-23\n",
      "No .DS_Store at cropped_2018-06-22\n",
      "No .DS_Store at cropped_2018-06-14\n",
      "No .DS_Store at cropped_2018-07-06\n",
      "There are 32637 examples.\n",
      "There are 0 unlabelled examples.\n"
     ]
    }
   ],
   "source": [
    "import os\n",
    "import re\n",
    "import gc\n",
    "import random\n",
    "\n",
    "import cv2\n",
    "import numpy as np\n",
    "import pandas as pd\n",
    "from sklearn.model_selection import train_test_split\n",
    "\n",
    "import data_manager\n",
    "\n",
    "random.seed(1)\n",
    "np.random.seed(1)\n",
    "\n",
    "os.chdir(\"../data/cropped\")\n",
    "\n",
    "# Clean all \".DS_Store\".\n",
    "try:\n",
    "    os.remove(\".DS_Store\")\n",
    "except:\n",
    "    print(\"No .DS_Store at ../data/cropped.\")\n",
    "\n",
    "for directory in os.listdir():\n",
    "    try:\n",
    "        os.remove(directory + \"/\" + \".DS_Store\")\n",
    "        print(\"Removed .DS_Store at \" + directory)\n",
    "    except:\n",
    "        print(\"No .DS_Store at \" + directory)\n",
    "        \n",
    "# Verify that each file in every (sub)directory is an image file.\n",
    "for directory in os.listdir():\n",
    "    for file in os.listdir(directory):\n",
    "        if not re.search(\".jpg\", file):\n",
    "            print(\"Non-image file exists: \" + file)\n",
    "    \n",
    "# Find total number of examples, \"num_examples\".\n",
    "num_examples = 0\n",
    "for directory in os.listdir():\n",
    "    num_examples += len(os.listdir(directory))\n",
    "print(\"There are \" + str(num_examples) + \" examples.\")\n",
    "\n",
    "# Verify that each example has a label.\n",
    "num_errors = 0\n",
    "for directory in os.listdir():\n",
    "    labels = pd.read_csv(\"../labels/\" + directory[8:] + \".csv\")\n",
    "    for pict in os.listdir(directory):\n",
    "        if pict[:len(pict) - 4] not in labels[\"date_id\"].values:\n",
    "            print(pict + \" is without a label.\")\n",
    "print(\"There are \" + str(num_errors) + \" unlabelled examples.\")"
   ]
  },
  {
   "cell_type": "code",
   "execution_count": 2,
   "metadata": {
    "scrolled": true
   },
   "outputs": [
    {
     "name": "stdout",
     "output_type": "stream",
     "text": [
      "Filling in X and y...\n",
      "Splitting data...\n",
      "Normalizing features...\n",
      "Pickling sets...\n"
     ]
    }
   ],
   "source": [
    "# Create example and label matrices.\n",
    "y = np.empty(shape=(num_examples, 2))\n",
    "X = np.empty(shape=(num_examples, 128, 128, 3))\n",
    "print(\"Filling in X and y...\")\n",
    "index = 0\n",
    "for directory in os.listdir():\n",
    "    labels = pd.read_csv(\"../labels/\" + directory[8:] + \".csv\")\n",
    "    for pict in os.listdir(directory):\n",
    "        X[index] = cv2.imread(directory + \"/\" + pict).astype(\"float64\") # Note X[index] is BGR, not RGB.\n",
    "        label = labels.loc[labels[\"date_id\"] == pict[:len(pict) - 4], \"label\"]\n",
    "        if label.iloc[0] == 1:\n",
    "            y[index][0] = 1\n",
    "            y[index][1] = 0\n",
    "        else:\n",
    "            y[index][0] = 0\n",
    "            y[index][1] = 1\n",
    "        index += 1\n",
    "        \n",
    "# Split the data into train, validation, and test sets.\n",
    "print(\"Splitting data...\")\n",
    "train_X, test_X, train_y, test_y = train_test_split(X, y, test_size=0.2, random_state=1)\n",
    "del X\n",
    "del y\n",
    "gc.collect()\n",
    "train_X, validation_X, train_y, validation_y = train_test_split(train_X, train_y, test_size=0.2, random_state=1)\n",
    "\n",
    "# Perform mean-subtraction and normalization of all images, calculating\n",
    "# mean and standard deviation from the train set.\n",
    "print(\"Normalizing features...\")\n",
    "train_mean, train_std = train_X.mean(), train_X.std()\n",
    "train_X = (train_X - train_mean) / train_std\n",
    "unnorm_validation_X = validation_X\n",
    "validation_X = (validation_X - train_mean) / train_std\n",
    "unnorm_test_X = test_X\n",
    "test_X = (test_X - train_mean) / train_std\n",
    "\n",
    "# Pickle all sets.\n",
    "print(\"Pickling sets...\")\n",
    "base_path = \"../pickles/\""
   ]
  },
  {
   "cell_type": "code",
   "execution_count": 3,
   "metadata": {},
   "outputs": [
    {
     "name": "stdout",
     "output_type": "stream",
     "text": [
      "Writing total_bytes=8213102756...\n",
      "Writing bytes [0, 1073741824)... Done.\n",
      "Writing bytes [1073741824, 2147483648)... Done.\n",
      "Writing bytes [2147483648, 3221225472)... Done.\n",
      "Writing bytes [3221225472, 4294967296)... Done.\n",
      "Writing bytes [4294967296, 5368709120)... Done.\n",
      "Writing bytes [5368709120, 6442450944)... Done.\n",
      "Writing bytes [6442450944, 7516192768)... Done.\n",
      "Writing bytes [7516192768, 8213102756)... Done.\n"
     ]
    },
    {
     "data": {
      "text/plain": [
       "0"
      ]
     },
     "execution_count": 3,
     "metadata": {},
     "output_type": "execute_result"
    }
   ],
   "source": [
    "data_manager.pickle_dump(train_X, base_path + \"train_X.npy\")\n",
    "del train_X\n",
    "gc.collect()"
   ]
  },
  {
   "cell_type": "code",
   "execution_count": 4,
   "metadata": {},
   "outputs": [
    {
     "name": "stdout",
     "output_type": "stream",
     "text": [
      "Writing total_bytes=334347...\n",
      "Writing bytes [0, 334347)... Done.\n"
     ]
    },
    {
     "data": {
      "text/plain": [
       "0"
      ]
     },
     "execution_count": 4,
     "metadata": {},
     "output_type": "execute_result"
    }
   ],
   "source": [
    "data_manager.pickle_dump(train_y, base_path + \"train_y.npy\")\n",
    "del train_y\n",
    "gc.collect()"
   ]
  },
  {
   "cell_type": "code",
   "execution_count": 5,
   "metadata": {},
   "outputs": [
    {
     "name": "stdout",
     "output_type": "stream",
     "text": [
      "Writing total_bytes=2053374112...\n",
      "Writing bytes [0, 1073741824)... Done.\n",
      "Writing bytes [1073741824, 2053374112)... Done.\n"
     ]
    },
    {
     "data": {
      "text/plain": [
       "0"
      ]
     },
     "execution_count": 5,
     "metadata": {},
     "output_type": "execute_result"
    }
   ],
   "source": [
    "data_manager.pickle_dump(validation_X, base_path + \"validation_X.npy\")\n",
    "del validation_X\n",
    "gc.collect()"
   ]
  },
  {
   "cell_type": "code",
   "execution_count": 6,
   "metadata": {},
   "outputs": [
    {
     "name": "stdout",
     "output_type": "stream",
     "text": [
      "Writing total_bytes=83707...\n",
      "Writing bytes [0, 83707)... Done.\n"
     ]
    },
    {
     "data": {
      "text/plain": [
       "0"
      ]
     },
     "execution_count": 6,
     "metadata": {},
     "output_type": "execute_result"
    }
   ],
   "source": [
    "data_manager.pickle_dump(validation_y, base_path + \"validation_y.npy\")\n",
    "del validation_y\n",
    "gc.collect()"
   ]
  },
  {
   "cell_type": "code",
   "execution_count": 7,
   "metadata": {},
   "outputs": [
    {
     "name": "stdout",
     "output_type": "stream",
     "text": [
      "Writing total_bytes=2566914208...\n",
      "Writing bytes [0, 1073741824)... Done.\n",
      "Writing bytes [1073741824, 2147483648)... Done.\n",
      "Writing bytes [2147483648, 2566914208)... Done.\n"
     ]
    },
    {
     "data": {
      "text/plain": [
       "0"
      ]
     },
     "execution_count": 7,
     "metadata": {},
     "output_type": "execute_result"
    }
   ],
   "source": [
    "data_manager.pickle_dump(test_X, base_path + \"test_X.npy\")\n",
    "del test_X\n",
    "gc.collect()"
   ]
  },
  {
   "cell_type": "code",
   "execution_count": 8,
   "metadata": {},
   "outputs": [
    {
     "name": "stdout",
     "output_type": "stream",
     "text": [
      "Writing total_bytes=104603...\n",
      "Writing bytes [0, 104603)... Done.\n",
      "Done.\n"
     ]
    }
   ],
   "source": [
    "data_manager.pickle_dump(test_y, base_path + \"test_y.npy\")\n",
    "del test_y\n",
    "gc.collect()"
   ]
  },
  {
   "cell_type": "code",
   "execution_count": null,
   "metadata": {},
   "outputs": [],
   "source": [
    "data_manager.pickle_dump(unnorm_test_X, base_path + \"unnorm_test_X.npy\")\n",
    "del unnorm_test_X\n",
    "gc.collect()"
   ]
  },
  {
   "cell_type": "code",
   "execution_count": null,
   "metadata": {},
   "outputs": [],
   "source": [
    "data_manager.pickle_dump(unnorm_validation_X, base_path + \"unnorm_validation_X.npy\")\n",
    "del unnorm_validation_X\n",
    "gc.collect()\n",
    "print(\"Done.\")"
   ]
  }
 ],
 "metadata": {
  "kernelspec": {
   "display_name": "Python 3",
   "language": "python",
   "name": "python3"
  },
  "language_info": {
   "codemirror_mode": {
    "name": "ipython",
    "version": 3
   },
   "file_extension": ".py",
   "mimetype": "text/x-python",
   "name": "python",
   "nbconvert_exporter": "python",
   "pygments_lexer": "ipython3",
   "version": "3.6.5"
  }
 },
 "nbformat": 4,
 "nbformat_minor": 2
}
