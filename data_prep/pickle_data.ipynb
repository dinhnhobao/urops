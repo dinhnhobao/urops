{
 "cells": [
  {
   "cell_type": "code",
   "execution_count": 1,
   "metadata": {},
   "outputs": [],
   "source": [
    "import os\n",
    "import re\n",
    "import gc\n",
    "import random\n",
    "\n",
    "import cv2\n",
    "import numpy as np\n",
    "import pandas as pd\n",
    "from sklearn.model_selection import train_test_split, StratifiedShuffleSplit\n",
    "\n",
    "import data_manager\n",
    "\n",
    "os.chdir(\"../data/cropped\")"
   ]
  },
  {
   "cell_type": "code",
   "execution_count": 2,
   "metadata": {},
   "outputs": [
    {
     "name": "stdout",
     "output_type": "stream",
     "text": [
      "No .DS_Store in ../data/cropped.\n",
      "No .DS_Store in ../data/cropped_2018-06-14.\n"
     ]
    }
   ],
   "source": [
    "# Clean all unwanted, hidden system files in the working directory.\n",
    "# In OS X, one such file is \".DS_Store\".\n",
    "# Such files can interfere with the data processing below.\n",
    "\n",
    "unwanted_files = [\".DS_Store\"]\n",
    "for file in unwanted_files:\n",
    "    try:\n",
    "        os.remove(file)\n",
    "    except:\n",
    "        print(f\"No {file} in ../data/cropped.\")\n",
    "\n",
    "for file in unwanted_files:\n",
    "    for directory in os.listdir():\n",
    "        try:\n",
    "            os.remove(directory + \"/\" + file)\n",
    "            print(f\"Removed {file} in {directory}\")\n",
    "        except:\n",
    "            print(f\"No {file} in ../data/{directory}.\")"
   ]
  },
  {
   "cell_type": "code",
   "execution_count": 3,
   "metadata": {
    "scrolled": false
   },
   "outputs": [
    {
     "name": "stdout",
     "output_type": "stream",
     "text": [
      "Non-image files in ../data/cropped_2018-06-14: 0.\n",
      "\n",
      "There are 1390 examples.\n",
      "\n",
      "There are 0 unlabelled examples.\n"
     ]
    }
   ],
   "source": [
    "# Verify that each file in every (sub)directory is an image file.\n",
    "for directory in os.listdir():\n",
    "    total_non_image_files = 0\n",
    "    for file in os.listdir(directory):\n",
    "        if not re.search(\".jpg\", file):\n",
    "            total_non_image_files += 1\n",
    "            print(f\"Non-image file exists: {file}\")\n",
    "    print(f\"Non-image files in ../data/{directory}: {total_non_image_files}.\")\n",
    "print()\n",
    "\n",
    "# Find total number of examples, \"num_examples\".\n",
    "num_examples = 0\n",
    "for directory in os.listdir():\n",
    "    num_examples += len(os.listdir(directory))\n",
    "print(f\"There are {num_examples} examples.\")\n",
    "print()\n",
    "\n",
    "# Verify that each example has a label.\n",
    "num_errors = 0\n",
    "for directory in os.listdir():\n",
    "    labels = pd.read_csv(f\"../labels/{directory[8:]}.csv\")\n",
    "    for pict in os.listdir(directory):\n",
    "        if pict[:len(pict) - 4] not in labels[\"date_id\"].values:\n",
    "            print(f\"{pict} is without a label.\")\n",
    "print(f\"There are {num_errors} unlabelled examples.\")"
   ]
  },
  {
   "cell_type": "code",
   "execution_count": 4,
   "metadata": {},
   "outputs": [],
   "source": [
    "num_classes = 2 # The classes are \"0\" and \"1\".\n",
    "image_width = 128\n",
    "image_height = 128\n",
    "num_channels = 3\n",
    "train_prop = 0.8\n",
    "test_prop = 0.1\n",
    "val_prop = 0.1\n",
    "seed = 1\n",
    "num_splits = 1"
   ]
  },
  {
   "cell_type": "code",
   "execution_count": 6,
   "metadata": {},
   "outputs": [
    {
     "name": "stdout",
     "output_type": "stream",
     "text": [
      "Filling in X and y... done.\n"
     ]
    }
   ],
   "source": [
    "# Create example and label matrices.\n",
    "print(\"Filling in X and y...\",\n",
    "      end=\"\")\n",
    "y = np.zeros(shape=(num_examples,\n",
    "                    num_classes))\n",
    "X = np.empty(shape=(num_examples,\n",
    "                    image_width,\n",
    "                    image_height,\n",
    "                    num_channels))\n",
    "index = 0\n",
    "for directory in os.listdir():\n",
    "    labels = pd.read_csv(f\"../labels/{directory[8:]}.csv\")\n",
    "    for pict in os.listdir(directory):\n",
    "        X[index] = cv2.imread(f\"{directory}/{pict}\").astype(\"float64\") # Note X[index] is BGR, not RGB.\n",
    "        label = labels.loc[labels[\"date_id\"] == pict[:len(pict) - 4], \"label\"]\n",
    "        y[index][label.iloc[0]] = 1\n",
    "        index += 1\n",
    "print(\"done.\")"
   ]
  },
  {
   "cell_type": "code",
   "execution_count": 43,
   "metadata": {},
   "outputs": [],
   "source": [
    "get_sss_indices = StratifiedShuffleSplit(n_splits=10,\n",
    "                                         test_size=val_prop,\n",
    "                                         random_state=seed)"
   ]
  },
  {
   "cell_type": "code",
   "execution_count": 44,
   "metadata": {},
   "outputs": [],
   "source": [
    "a = get_sss_indices.split(X=X, y=y)"
   ]
  },
  {
   "cell_type": "code",
   "execution_count": 45,
   "metadata": {},
   "outputs": [],
   "source": [
    "for train_index, test_index in a:\n",
    "    m = train_index"
   ]
  },
  {
   "cell_type": "code",
   "execution_count": null,
   "metadata": {},
   "outputs": [],
   "source": [
    "# Split the data into train, validation, and test sets.\n",
    "print(\"Splitting data...\",\n",
    "      end=\"\")\n",
    "train_X, test_X, train_y, test_y = train_test_split(X,\n",
    "                                                    y,\n",
    "                                                    test_size=test_prop,\n",
    "                                                    random_state=seed)\n",
    "del X, y\n",
    "gc.collect()\n",
    "val_prop = data_manager.find_adjusted_val_prop(val_prop,\n",
    "                                               test_prop,\n",
    "                                               num_examples)\n",
    "get_sss_indices = StratifiedShuffleSplit(n_splits=num_splits,\n",
    "                                         test_size=val_prop,\n",
    "                                         random_state=seed)\n",
    "train_X, validation_X, train_y, validation_y = train_test_split(train_X,\n",
    "                                                                train_y,\n",
    "                                                                test_size=val_prop,\n",
    "                                                                random_state=seed)\n",
    "print(\"done.\")"
   ]
  },
  {
   "cell_type": "code",
   "execution_count": null,
   "metadata": {},
   "outputs": [],
   "source": [
    "# Perform mean-subtraction and normalization of all images,\n",
    "# calculating mean and standard deviation from the train set.\n",
    "print(\"Normalizing features...\",\n",
    "      end=\"\")\n",
    "train_mean, train_std = train_X.mean(), train_X.std()\n",
    "train_X = (train_X - train_mean) / train_std\n",
    "validation_X = (validation_X - train_mean) / train_std\n",
    "test_X = (test_X - train_mean) / train_std\n",
    "print(\"done.\")"
   ]
  },
  {
   "cell_type": "code",
   "execution_count": null,
   "metadata": {},
   "outputs": [],
   "source": [
    "# Pickle all sets.\n",
    "print(\"Pickling sets...\")\n",
    "base_path = \"../pickles/\""
   ]
  },
  {
   "cell_type": "code",
   "execution_count": null,
   "metadata": {},
   "outputs": [],
   "source": [
    "data_manager.pickle_dump((train_mean, train_std),\n",
    "                         base_path + \"train_mean_sd.tuple\")\n",
    "del train_mean, train_sd\n",
    "gc.collect()"
   ]
  },
  {
   "cell_type": "code",
   "execution_count": null,
   "metadata": {},
   "outputs": [],
   "source": [
    "data_manager.pickle_dump(train_X,\n",
    "                         base_path + \"train_X.npy\")\n",
    "del train_X\n",
    "gc.collect()"
   ]
  },
  {
   "cell_type": "code",
   "execution_count": null,
   "metadata": {},
   "outputs": [],
   "source": [
    "data_manager.pickle_dump(train_y,\n",
    "                         base_path + \"train_y.npy\")\n",
    "del train_y\n",
    "gc.collect()"
   ]
  },
  {
   "cell_type": "code",
   "execution_count": null,
   "metadata": {},
   "outputs": [],
   "source": [
    "data_manager.pickle_dump(validation_X,\n",
    "                         base_path + \"validation_X.npy\")\n",
    "del validation_X\n",
    "gc.collect()"
   ]
  },
  {
   "cell_type": "code",
   "execution_count": null,
   "metadata": {},
   "outputs": [],
   "source": [
    "data_manager.pickle_dump(validation_y,\n",
    "                         base_path + \"validation_y.npy\")\n",
    "del validation_y\n",
    "gc.collect()"
   ]
  },
  {
   "cell_type": "code",
   "execution_count": null,
   "metadata": {},
   "outputs": [],
   "source": [
    "data_manager.pickle_dump(test_X,\n",
    "                         base_path + \"test_X.npy\")\n",
    "del test_X\n",
    "gc.collect()"
   ]
  },
  {
   "cell_type": "code",
   "execution_count": null,
   "metadata": {},
   "outputs": [],
   "source": [
    "data_manager.pickle_dump(test_y,\n",
    "                         base_path + \"test_y.npy\")\n",
    "del test_y\n",
    "gc.collect()\n",
    "print(\"Done.\")"
   ]
  }
 ],
 "metadata": {
  "kernelspec": {
   "display_name": "Python 3",
   "language": "python",
   "name": "python3"
  },
  "language_info": {
   "codemirror_mode": {
    "name": "ipython",
    "version": 3
   },
   "file_extension": ".py",
   "mimetype": "text/x-python",
   "name": "python",
   "nbconvert_exporter": "python",
   "pygments_lexer": "ipython3",
   "version": "3.6.5"
  }
 },
 "nbformat": 4,
 "nbformat_minor": 2
}
