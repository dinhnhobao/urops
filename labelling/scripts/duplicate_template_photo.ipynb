{
 "cells": [
  {
   "cell_type": "code",
   "execution_count": 11,
   "metadata": {},
   "outputs": [],
   "source": [
    "import os\n",
    "import shutil"
   ]
  },
  {
   "cell_type": "code",
   "execution_count": 13,
   "metadata": {},
   "outputs": [],
   "source": [
    "for pict in os.listdir():\n",
    "    if pict in ['.DS_Store', 'src.jpg', '.ipynb_checkpoints']:\n",
    "        continue\n",
    "    else:\n",
    "        os.replace('/Users/nurmister/Documents/academic/urops/labelling/pictures/' + 'src.jpg', '/Users/nurmister/Documents/academic/urops/labelling/pictures/' + pict)\n",
    "        shutil.copy(pict, 'src.jpg')"
   ]
  }
 ],
 "metadata": {
  "kernelspec": {
   "display_name": "Python 3",
   "language": "python",
   "name": "python3"
  },
  "language_info": {
   "codemirror_mode": {
    "name": "ipython",
    "version": 3
   },
   "file_extension": ".py",
   "mimetype": "text/x-python",
   "name": "python",
   "nbconvert_exporter": "python",
   "pygments_lexer": "ipython3",
   "version": "3.6.5"
  }
 },
 "nbformat": 4,
 "nbformat_minor": 2
}
