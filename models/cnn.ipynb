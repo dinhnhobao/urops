{
 "cells": [
  {
   "cell_type": "code",
   "execution_count": 1,
   "metadata": {},
   "outputs": [],
   "source": [
    "import os\n",
    "import pickle\n",
    "\n",
    "import cv2\n",
    "import numpy as np\n",
    "import matplotlib.pyplot as plt\n",
    "import tensorflow as tf # Version 1.9\n",
    "\n",
    "os.environ[\"CUDA_VISIBLE_DEVICES\"]=\"0\" # For training on a GPU.\n",
    "\n",
    "%matplotlib inline\n",
    "\n",
    "\n",
    "class MacOSFile():\n",
    "\n",
    "    def __init__(self, f):\n",
    "        self.f = f\n",
    "\n",
    "    def __getattr__(self, item):\n",
    "        return getattr(self.f, item)\n",
    "\n",
    "    def read(self, n):\n",
    "        print(\"Reading total_bytes=%s\" % n, flush=True)\n",
    "        if n >= (1 << 31):\n",
    "            buffer = bytearray(n)\n",
    "            idx = 0\n",
    "            while idx < n:\n",
    "                batch_size = min(n - idx, 1 << 31 - 1)\n",
    "                print(\"Reading bytes [%s,%s)...\" % (idx, idx + batch_size),\n",
    "                      end=\"\", flush=True)\n",
    "                buffer[idx:idx + batch_size] = self.f.read(batch_size)\n",
    "                print(\"Done.\", flush=True)\n",
    "                idx += batch_size\n",
    "            return buffer\n",
    "        return self.f.read(n)\n",
    "\n",
    "    def write(self, buffer):\n",
    "        n = len(buffer)\n",
    "        print(\"writing total_bytes=%s...\" % n, flush=True)\n",
    "        idx = 0\n",
    "        while idx < n:\n",
    "            batch_size = min(n - idx, 1 << 31 - 1)\n",
    "            print(\"writing bytes [%s, %s)... \" % (idx, idx + batch_size),\n",
    "                  end=\"\", flush=True)\n",
    "            self.f.write(buffer[idx:idx + batch_size])\n",
    "            print(\"done.\", flush=True)\n",
    "            idx += batch_size\n",
    "\n",
    "def pickle_load(file_path):\n",
    "    \"\"\"Wrapper of pickle.load\"\"\"\n",
    "    with open(file_path, \"rb\") as f:\n",
    "        return pickle.load(MacOSFile(f))"
   ]
  },
  {
   "cell_type": "code",
   "execution_count": 2,
   "metadata": {},
   "outputs": [
    {
     "name": "stdout",
     "output_type": "stream",
     "text": [
      "Reading total_bytes=11\n",
      "Reading total_bytes=8213102745\n",
      "Reading bytes [0,1073741824)...Done.\n",
      "Reading bytes [1073741824,2147483648)...Done.\n",
      "Reading bytes [2147483648,3221225472)...Done.\n",
      "Reading bytes [3221225472,4294967296)...Done.\n",
      "Reading bytes [4294967296,5368709120)...Done.\n",
      "Reading bytes [5368709120,6442450944)...Done.\n",
      "Reading bytes [6442450944,7516192768)...Done.\n",
      "Reading bytes [7516192768,8213102745)...Done.\n",
      "Reading total_bytes=334347\n",
      "Reading total_bytes=11\n",
      "Reading total_bytes=2566914197\n",
      "Reading bytes [0,1073741824)...Done.\n",
      "Reading bytes [1073741824,2147483648)...Done.\n",
      "Reading bytes [2147483648,2566914197)...Done.\n",
      "Reading total_bytes=104603\n"
     ]
    }
   ],
   "source": [
    "# Load train and test sets.\n",
    "tuning_hyperparams = False\n",
    "train_X = pickle_load(\"../data/pickles/train_X.npy\")\n",
    "train_y = pickle_load(\"../data/pickles/train_y.npy\")\n",
    "if tuning_hyperparams:\n",
    "    test_X = pickle_load(\"../data/pickles/validation_X.npy\")\n",
    "    test_y = pickle_load(\"../data/pickles/validation_y.npy\")\n",
    "else:\n",
    "    test_X = pickle_load(\"../data/pickles/test_X.npy\")\n",
    "    test_y = pickle_load(\"../data/pickles/test_y.npy\")"
   ]
  },
  {
   "cell_type": "code",
   "execution_count": 3,
   "metadata": {
    "scrolled": true
   },
   "outputs": [
    {
     "name": "stdout",
     "output_type": "stream",
     "text": [
      "Training set (images) shape: (20887, 128, 128, 3)\n",
      "Training set (labels) shape: (20887, 2)\n",
      "Test set (images) shape: (6528, 128, 128, 3)\n",
      "Test set (labels) shape: (6528, 2)\n"
     ]
    }
   ],
   "source": [
    "# Get shape of training set.\n",
    "print(\"Training set (images) shape: {shape}\".format(shape=train_X.shape))\n",
    "print(\"Training set (labels) shape: {shape}\".format(shape=train_y.shape))\n",
    "# Get shape of test set.\n",
    "print(\"Test set (images) shape: {shape}\".format(shape=test_X.shape))\n",
    "print(\"Test set (labels) shape: {shape}\".format(shape=test_y.shape))\n",
    "# Set input details.\n",
    "image_size = 128\n",
    "num_channels = 3\n",
    "num_classes = 2\n",
    "X = tf.placeholder(\"float\", [None, image_size, image_size, num_channels])\n",
    "y = tf.placeholder(\"float\", [None, num_classes])"
   ]
  },
  {
   "cell_type": "code",
   "execution_count": 4,
   "metadata": {},
   "outputs": [],
   "source": [
    "# Set key hyperparameters.\n",
    "training_iters = 200\n",
    "learning_rate = 0.001\n",
    "batch_size = 128"
   ]
  },
  {
   "cell_type": "code",
   "execution_count": 14,
   "metadata": {},
   "outputs": [],
   "source": [
    "def conv2d(X, W, b, stride=1):\n",
    "    \"\"\"tf.nn.conv2d() wrapper, with bias and relu activation.\"\"\"\n",
    "    # The first and last element of \"strides\" is example and\n",
    "    # channel stride respectively.\n",
    "    X = tf.nn.conv2d(X, W,\n",
    "                     strides=[1, stride, stride, 1],\n",
    "                     padding=\"SAME\")\n",
    "    X = tf.nn.bias_add(X, b)\n",
    "    return tf.nn.relu(X)\n",
    "\n",
    "def max_pool(X, kernel_size=2):\n",
    "    # Stride of the kernel is always >= its size to prevent\n",
    "    # overlap of pooling region.\n",
    "    return tf.nn.max_pool(X,\n",
    "                          ksize=[1, kernel_size, kernel_size, 1],\n",
    "                          strides=[1, kernel_size, kernel_size, 1],\n",
    "                          padding=\"SAME\")"
   ]
  },
  {
   "cell_type": "code",
   "execution_count": 15,
   "metadata": {},
   "outputs": [],
   "source": [
    "# Create dictionaries for the weight and bias parameters.\n",
    "weights = {\n",
    "    \"wc1\": tf.get_variable(\"W0\",\n",
    "                           shape=(3,3,1,32),\n",
    "                           initializer=tf.contrib.layers.xavier_initializer()), \n",
    "    \"wc2\": tf.get_variable(\"W1\",\n",
    "                           shape=(3,3,32,64),\n",
    "                           initializer=tf.contrib.layers.xavier_initializer()), \n",
    "    \"wc3\": tf.get_variable(\"W2\",\n",
    "                           shape=(3,3,64,128),\n",
    "                           initializer=tf.contrib.layers.xavier_initializer()), \n",
    "    \"wd1\": tf.get_variable(\"W3\",\n",
    "                           shape=(4*4*128,128),\n",
    "                           initializer=tf.contrib.layers.xavier_initializer()), \n",
    "    \"out\": tf.get_variable(\"W6\",\n",
    "                           shape=(128,n_classes),\n",
    "                           initializer=tf.contrib.layers.xavier_initializer()), \n",
    "}\n",
    "\n",
    "biases = {\n",
    "    \"bc1\": tf.get_variable(\"B0\",\n",
    "                           shape=(32),\n",
    "                           initializer=tf.contrib.layers.xavier_initializer()),\n",
    "    \"bc2\": tf.get_variable(\"B1\",\n",
    "                           shape=(64),\n",
    "                           initializer=tf.contrib.layers.xavier_initializer()),\n",
    "    \"bc3\": tf.get_variable(\"B2\",\n",
    "                           shape=(128),\n",
    "                           initializer=tf.contrib.layers.xavier_initializer()),\n",
    "    \"bd1\": tf.get_variable(\"B3\",\n",
    "                           shape=(128),\n",
    "                           initializer=tf.contrib.layers.xavier_initializer()),\n",
    "    \"out\": tf.get_variable(\"B4\",\n",
    "                           shape=(10),\n",
    "                           initializer=tf.contrib.layers.xavier_initializer()),\n",
    "}"
   ]
  },
  {
   "cell_type": "code",
   "execution_count": 16,
   "metadata": {},
   "outputs": [],
   "source": [
    "def conv_net(X, weights, biases):  \n",
    "    # here we call the conv2d function we had defined above and pass the input image X, weights wc1 and bias bc1.\n",
    "    conv1 = conv2d(X, weights['wc1'], biases['bc1'])\n",
    "    # MaX Pooling (down-sampling), this chooses the maX value from a 2*2 matrix window and outputs a 14*14 matriX.\n",
    "    conv1 = max_pool(conv1, k=2)\n",
    "\n",
    "    # Convolution Layer\n",
    "    # here we call the conv2d function we had defined above and pass the input image X, weights wc2 and bias bc2.\n",
    "    conv2 = conv2d(conv1, weights['wc2'], biases['bc2'])\n",
    "    # Max Pooling (down-sampling), this chooses the max value from a 2*2 matrix window and outputs a 7*7 matriX.\n",
    "    conv2 = max_pool(conv2, k=2)\n",
    "\n",
    "    conv3 = conv2d(conv2, weights['wc3'], biases['bc3'])\n",
    "    # Max Pooling (down-sampling), this chooses the max value from a 2*2 matrix window and outputs a 4*4.\n",
    "    conv3 = max_pool(conv3, k=2)\n",
    "\n",
    "\n",
    "    # Fully connected layer\n",
    "    # Reshape conv2 output to fit fully connected layer input\n",
    "    fc1 = tf.reshape(conv3, [-1, weights['wd1'].get_shape().as_list()[0]])\n",
    "    fc1 = tf.add(tf.matmul(fc1, weights['wd1']), biases['bd1'])\n",
    "    fc1 = tf.nn.relu(fc1)\n",
    "    # Output, class prediction\n",
    "    # finally we multiply the fully connected layer with the weights and add a bias term. \n",
    "    out = tf.add(tf.matmul(fc1, weights['out']), biases['out'])\n",
    "    return out"
   ]
  },
  {
   "cell_type": "code",
   "execution_count": 18,
   "metadata": {},
   "outputs": [
    {
     "name": "stdout",
     "output_type": "stream",
     "text": [
      "WARNING:tensorflow:From <ipython-input-18-989f812044df>:3: softmax_cross_entropy_with_logits (from tensorflow.python.ops.nn_ops) is deprecated and will be removed in a future version.\n",
      "Instructions for updating:\n",
      "\n",
      "Future major versions of TensorFlow will allow gradients to flow\n",
      "into the labels input on backprop by default.\n",
      "\n",
      "See tf.nn.softmax_cross_entropy_with_logits_v2.\n",
      "\n"
     ]
    }
   ],
   "source": [
    "pred = conv_net(X, weights, biases)\n",
    "\n",
    "cost = tf.reduce_mean(tf.nn.softmax_cross_entropy_with_logits(logits=pred, labels=y))\n",
    "\n",
    "optimizer = tf.train.AdamOptimizer(learning_rate=learning_rate).minimize(cost)"
   ]
  },
  {
   "cell_type": "code",
   "execution_count": 19,
   "metadata": {},
   "outputs": [],
   "source": [
    "#Here you check whether the index of the maximum value of the predicted image is equal\n",
    "correct_prediction = tf.equal(tf.argmax(pred, 1), tf.argmax(y, 1))\n",
    "\n",
    "#calculate accuracy across all the given images and average them out.\n",
    "accuracy = tf.reduce_mean(tf.cast(correct_prediction, tf.float32))"
   ]
  },
  {
   "cell_type": "code",
   "execution_count": 20,
   "metadata": {},
   "outputs": [],
   "source": [
    "# Initializing the variables\n",
    "init = tf.global_variables_initializer()"
   ]
  },
  {
   "cell_type": "code",
   "execution_count": 23,
   "metadata": {},
   "outputs": [
    {
     "name": "stdout",
     "output_type": "stream",
     "text": [
      "Iter 0, Loss= 0.327325, Training Accuracy= 0.87500\n",
      "Optimization Finished!\n",
      "Testing Accuracy: 0.84800\n"
     ]
    },
    {
     "name": "stderr",
     "output_type": "stream",
     "text": [
      "\n",
      "KeyboardInterrupt\n",
      "\n"
     ]
    }
   ],
   "source": [
    "with tf.Session() as sess:\n",
    "    sess.run(init)\n",
    "    train_loss = []\n",
    "    test_loss = []\n",
    "    train_accuracy = []\n",
    "    test_accuracy = []\n",
    "    summary_writer = tf.summary.FileWriter('./Output', sess.graph)\n",
    "    for i in range(training_iters):\n",
    "        for batch in range(len(train_X)//batch_size):\n",
    "            batch_X = train_X[batch*batch_size:min((batch+1)*batch_size,len(train_X))]\n",
    "            batch_y = train_y[batch*batch_size:min((batch+1)*batch_size,len(train_y))] \n",
    "            # Calculate batch loss and accuracy\n",
    "            opt = sess.run(optimizer, feed_dict={X: batch_X, y: batch_y})\n",
    "            loss, acc = sess.run([cost, accuracy], feed_dict={X: batch_X, y: batch_y})\n",
    "        print(\"Iter \" + str(i) + \", Loss= \" + \\\n",
    "              \"{:.6f}\".format(loss) + \", Training Accuracy= \" + \\\n",
    "              \"{:.5f}\".format(acc))\n",
    "        print(\"Optimization Finished!\")\n",
    "        \n",
    "        test_acc,valid_loss = sess.run([accuracy,cost], feed_dict={X: test_X,y : test_y})\n",
    "        train_loss.append(loss)\n",
    "        train_accuracy.append(acc)\n",
    "        test_accuracy.append(test_acc)\n",
    "        print(\"Testing Accuracy:\",\"{:.5f}\".format(test_acc))\n",
    "    summary_writer.close()"
   ]
  },
  {
   "cell_type": "code",
   "execution_count": null,
   "metadata": {},
   "outputs": [],
   "source": [
    "plt.plot(range(len(train_loss)), train_loss, 'b', label='Training loss')\n",
    "plt.plot(range(len(train_loss)), test_loss, 'r', label='Test loss')\n",
    "plt.title('Training and Test loss')\n",
    "plt.xlabel('Epochs ',fontsize=16)\n",
    "plt.ylabel('Loss',fontsize=16)\n",
    "plt.legend()\n",
    "plt.figure()\n",
    "plt.show()"
   ]
  },
  {
   "cell_type": "code",
   "execution_count": null,
   "metadata": {},
   "outputs": [],
   "source": [
    "plt.plot(range(len(train_loss)), train_accuracy, 'b', label='Training Accuracy'\n",
    "plt.plot(range(len(train_loss)), test_accuracy, 'r', label='Test Accuracy')\n",
    "plt.title('Training and Test Accuracy')\n",
    "plt.xlabel('Epochs ',fontsize=16)\n",
    "plt.ylabel('Loss',fontsize=16)\n",
    "plt.legend()\n",
    "plt.figure()"
   ]
  }
 ],
 "metadata": {
  "kernelspec": {
   "display_name": "Python 3",
   "language": "python",
   "name": "python3"
  },
  "language_info": {
   "codemirror_mode": {
    "name": "ipython",
    "version": 3
   },
   "file_extension": ".py",
   "mimetype": "text/x-python",
   "name": "python",
   "nbconvert_exporter": "python",
   "pygments_lexer": "ipython3",
   "version": "3.6.5"
  }
 },
 "nbformat": 4,
 "nbformat_minor": 2
}
