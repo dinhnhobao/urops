{
 "cells": [
  {
   "cell_type": "code",
   "execution_count": 1,
   "metadata": {},
   "outputs": [],
   "source": [
    "import os\n",
    "import pickle\n",
    "\n",
    "import numpy as np\n",
    "import matplotlib.pyplot as plt\n",
    "import tensorflow as tf # Version 1.8\n",
    "\n",
    "%matplotlib inline\n",
    "\n",
    "\n",
    "class MacOSFile():\n",
    "\n",
    "    def __init__(self, f):\n",
    "        self.f = f\n",
    "\n",
    "    def __getattr__(self, item):\n",
    "        return getattr(self.f, item)\n",
    "\n",
    "    def read(self, n):\n",
    "        print(\"Reading total_bytes=%s\" % n, flush=True)\n",
    "        if n >= (1 << 31):\n",
    "            buffer = bytearray(n)\n",
    "            idx = 0\n",
    "            while idx < n:\n",
    "                batch_size = min(n - idx, 1 << 31 - 1)\n",
    "                print(\"Reading bytes [%s,%s)...\" % (idx, idx + batch_size),\n",
    "                      end=\"\", flush=True)\n",
    "                buffer[idx:idx + batch_size] = self.f.read(batch_size)\n",
    "                print(\"Done.\", flush=True)\n",
    "                idx += batch_size\n",
    "            return buffer\n",
    "        return self.f.read(n)\n",
    "\n",
    "    def write(self, buffer):\n",
    "        n = len(buffer)\n",
    "        print(\"writing total_bytes=%s...\" % n, flush=True)\n",
    "        idx = 0\n",
    "        while idx < n:\n",
    "            batch_size = min(n - idx, 1 << 31 - 1)\n",
    "            print(\"writing bytes [%s, %s)... \" % (idx, idx + batch_size),\n",
    "                  end=\"\", flush=True)\n",
    "            self.f.write(buffer[idx:idx + batch_size])\n",
    "            print(\"done.\", flush=True)\n",
    "            idx += batch_size\n",
    "\n",
    "def pickle_load(file_path):\n",
    "    \"\"\"Wrapper of pickle.load\"\"\"\n",
    "    with open(file_path, \"rb\") as f:\n",
    "        return pickle.load(MacOSFile(f))"
   ]
  },
  {
   "cell_type": "code",
   "execution_count": 2,
   "metadata": {
    "scrolled": true
   },
   "outputs": [
    {
     "name": "stdout",
     "output_type": "stream",
     "text": [
      "Reading total_bytes=11\n",
      "Reading total_bytes=8213102745\n",
      "Reading bytes [0,1073741824)...Done.\n",
      "Reading bytes [1073741824,2147483648)...Done.\n",
      "Reading bytes [2147483648,3221225472)...Done.\n",
      "Reading bytes [3221225472,4294967296)...Done.\n",
      "Reading bytes [4294967296,5368709120)...Done.\n",
      "Reading bytes [5368709120,6442450944)...Done.\n",
      "Reading bytes [6442450944,7516192768)...Done.\n",
      "Reading bytes [7516192768,8213102745)...Done.\n",
      "Reading total_bytes=11\n",
      "Reading total_bytes=334336\n",
      "Reading total_bytes=11\n",
      "Reading total_bytes=2566914197\n",
      "Reading bytes [0,1073741824)...Done.\n",
      "Reading bytes [1073741824,2147483648)...Done.\n",
      "Reading bytes [2147483648,2566914197)...Done.\n",
      "Reading total_bytes=11\n",
      "Reading total_bytes=104592\n"
     ]
    }
   ],
   "source": [
    "# Load train and test sets.\n",
    "tuning_hyperparams = False\n",
    "train_X = pickle_load(\"../data/train_X.npy\")\n",
    "train_y = pickle_load(\"../data/train_y.npy\")\n",
    "if tuning_hyperparams:\n",
    "    test_X = pickle_load(\"../data/validation_X.npy\")\n",
    "    test_y = pickle_load(\"../data/validation_y.npy\")\n",
    "else:\n",
    "    test_X = pickle_load(\"../data/test_X.npy\")\n",
    "    test_y = pickle_load(\"../data/test_y.npy\")"
   ]
  },
  {
   "cell_type": "code",
   "execution_count": 3,
   "metadata": {
    "scrolled": true
   },
   "outputs": [
    {
     "name": "stdout",
     "output_type": "stream",
     "text": [
      "Training set (images) shape: (20887, 128, 128, 3)\n",
      "Training set (labels) shape: (20887, 2)\n",
      "Test set (images) shape: (6528, 128, 128, 3)\n",
      "Test set (labels) shape: (6528, 2)\n"
     ]
    }
   ],
   "source": [
    "# Get shape of training set.\n",
    "print(\"Training set (images) shape: {shape}\".format(shape=train_X.shape))\n",
    "print(\"Training set (labels) shape: {shape}\".format(shape=train_y.shape))\n",
    "# Get shape of test set.\n",
    "print(\"Test set (images) shape: {shape}\".format(shape=test_X.shape))\n",
    "print(\"Test set (labels) shape: {shape}\".format(shape=test_y.shape))\n",
    "# Set input details.\n",
    "image_size = 128\n",
    "num_channels = 3\n",
    "num_classes = 2\n",
    "X = tf.placeholder(\"float\", [None, image_size, image_size, num_channels])\n",
    "y = tf.placeholder(\"float\", [None, num_classes])"
   ]
  },
  {
   "cell_type": "code",
   "execution_count": 4,
   "metadata": {},
   "outputs": [],
   "source": [
    "# Set key hyperparameters.\n",
    "num_epochs = 20\n",
    "learning_rate = 0.0001\n",
    "batch_size = 256\n",
    "num_hidden_layers = 6\n",
    "num_filters_per_layer = [64, 128, 256, 512, 1024, 2048]\n",
    "filter_sizes = [5, 3, 3, 3, 3, 1]\n",
    "pooling_kernel_sizes = [2, 2, 2, 2, 2, 2]"
   ]
  },
  {
   "cell_type": "code",
   "execution_count": 5,
   "metadata": {},
   "outputs": [],
   "source": [
    "def conv2d(X, W, b, stride=1):\n",
    "    \"\"\"tf.nn.conv2d() wrapper, with bias and relu activation.\"\"\"\n",
    "    # The first and last element of \"strides\" is example and\n",
    "    # channel stride respectively.\n",
    "    X = tf.nn.conv2d(X, W,\n",
    "                     strides=[1, stride, stride, 1],\n",
    "                     padding=\"SAME\")\n",
    "    X = tf.nn.bias_add(X, b)\n",
    "    return tf.nn.relu(X)\n",
    "\n",
    "def max_pool(X, kernel_size=2):\n",
    "    # Stride of the kernel is always >= its size to prevent\n",
    "    # overlap of pooling region.\n",
    "    return tf.nn.max_pool(X,\n",
    "                          ksize=[1, kernel_size, kernel_size, 1],\n",
    "                          strides=[1, kernel_size, kernel_size, 1],\n",
    "                          padding=\"SAME\")"
   ]
  },
  {
   "cell_type": "code",
   "execution_count": 6,
   "metadata": {},
   "outputs": [],
   "source": [
    "# Assumes stride when pooling is 1, and padding when convoluting is \"SAME\".\n",
    "def find_final_size():\n",
    "    final_size = image_size\n",
    "    for i in range(len(pooling_kernel_sizes)):\n",
    "        final_size /= pooling_kernel_sizes[i]\n",
    "    return int(final_size)"
   ]
  },
  {
   "cell_type": "code",
   "execution_count": 7,
   "metadata": {},
   "outputs": [],
   "source": [
    "# Create dictionaries for the weight and bias parameters.\n",
    "weights = {\n",
    "    \"wc1\": tf.get_variable(\"W0\",\n",
    "                           shape=(filter_sizes[0],\n",
    "                                  filter_sizes[0],\n",
    "                                  num_channels,\n",
    "                                  num_filters_per_layer[0]),\n",
    "                           initializer=tf.contrib.layers.xavier_initializer()), \n",
    "    \"wc2\": tf.get_variable(\"W1\",\n",
    "                           shape=(filter_sizes[1],\n",
    "                                  filter_sizes[1],\n",
    "                                  num_filters_per_layer[0],\n",
    "                                  num_filters_per_layer[1]),\n",
    "                           initializer=tf.contrib.layers.xavier_initializer()), \n",
    "    \"wc3\": tf.get_variable(\"W2\",\n",
    "                           shape=(filter_sizes[2],\n",
    "                                  filter_sizes[2],\n",
    "                                  num_filters_per_layer[1],\n",
    "                                  num_filters_per_layer[2]),\n",
    "                           initializer=tf.contrib.layers.xavier_initializer()), \n",
    "    \"wc4\": tf.get_variable(\"W3\",\n",
    "                           shape=(filter_sizes[3],\n",
    "                                  filter_sizes[3],\n",
    "                                  num_filters_per_layer[2],\n",
    "                                  num_filters_per_layer[3]),\n",
    "                           initializer=tf.contrib.layers.xavier_initializer()),\n",
    "    \"wc5\": tf.get_variable(\"W4\",\n",
    "                           shape=(filter_sizes[4],\n",
    "                                  filter_sizes[4],\n",
    "                                  num_filters_per_layer[3],\n",
    "                                  num_filters_per_layer[4]),\n",
    "                           initializer=tf.contrib.layers.xavier_initializer()),\n",
    "    \"wc6\": tf.get_variable(\"W5\",\n",
    "                           shape=(filter_sizes[5],\n",
    "                                  filter_sizes[5],\n",
    "                                  num_filters_per_layer[4],\n",
    "                                  num_filters_per_layer[5]),\n",
    "                           initializer=tf.contrib.layers.xavier_initializer()), \n",
    "    \"wd1\": tf.get_variable(\"W6\",\n",
    "                           shape=(find_final_size() * find_final_size() * num_filters_per_layer[5],\n",
    "                                  num_filters_per_layer[5]),\n",
    "                           initializer=tf.contrib.layers.xavier_initializer()), \n",
    "    \"out\": tf.get_variable(\"W7\",\n",
    "                           shape=(num_filters_per_layer[5],\n",
    "                                  num_classes),\n",
    "                           initializer=tf.contrib.layers.xavier_initializer()), \n",
    "}\n",
    "\n",
    "biases = {\n",
    "    \"bc1\": tf.get_variable(\"B0\",\n",
    "                           shape=(num_filters_per_layer[0]),\n",
    "                           initializer=tf.contrib.layers.xavier_initializer()),\n",
    "    \"bc2\": tf.get_variable(\"B1\",\n",
    "                           shape=(num_filters_per_layer[1]),\n",
    "                           initializer=tf.contrib.layers.xavier_initializer()),\n",
    "    \"bc3\": tf.get_variable(\"B2\",\n",
    "                           shape=(num_filters_per_layer[2]),\n",
    "                           initializer=tf.contrib.layers.xavier_initializer()),\n",
    "    \"bc4\": tf.get_variable(\"B3\",\n",
    "                           shape=(num_filters_per_layer[3]),\n",
    "                           initializer=tf.contrib.layers.xavier_initializer()),\n",
    "    \"bc5\": tf.get_variable(\"B4\",\n",
    "                           shape=(num_filters_per_layer[4]),\n",
    "                           initializer=tf.contrib.layers.xavier_initializer()),\n",
    "    \"bc6\": tf.get_variable(\"B5\",\n",
    "                           shape=(num_filters_per_layer[5]),\n",
    "                           initializer=tf.contrib.layers.xavier_initializer()),\n",
    "    \"bd1\": tf.get_variable(\"B6\",\n",
    "                           shape=(num_filters_per_layer[5]),\n",
    "                           initializer=tf.contrib.layers.xavier_initializer()),\n",
    "    \"out\": tf.get_variable(\"B7\",\n",
    "                           shape=(num_classes),\n",
    "                           initializer=tf.contrib.layers.xavier_initializer()),\n",
    "}"
   ]
  },
  {
   "cell_type": "code",
   "execution_count": 8,
   "metadata": {},
   "outputs": [],
   "source": [
    "def conv_net(X, weights, biases):  \n",
    "    conv_layer_1 = conv2d(X,\n",
    "                          weights[\"wc1\"],\n",
    "                          biases[\"bc1\"])\n",
    "    pooled_conv_layer_1 = max_pool(conv_layer_1,\n",
    "                                   kernel_size=pooling_kernel_sizes[0])\n",
    "    conv_layer_2 = conv2d(pooled_conv_layer_1,\n",
    "                          weights[\"wc2\"],\n",
    "                          biases[\"bc2\"])\n",
    "    pooled_conv_layer_2 = max_pool(conv_layer_2,\n",
    "                                   kernel_size=pooling_kernel_sizes[1])\n",
    "    conv_layer_3 = conv2d(pooled_conv_layer_2,\n",
    "                          weights[\"wc3\"],\n",
    "                          biases[\"bc3\"])\n",
    "    pooled_conv_layer_3 = max_pool(conv_layer_3,\n",
    "                                   kernel_size=pooling_kernel_sizes[2])\n",
    "    conv_layer_4 = conv2d(pooled_conv_layer_3,\n",
    "                          weights[\"wc4\"],\n",
    "                          biases[\"bc4\"])\n",
    "    pooled_conv_layer_4 = max_pool(conv_layer_4,\n",
    "                                   kernel_size=pooling_kernel_sizes[3])\n",
    "    conv_layer_5 = conv2d(pooled_conv_layer_4,\n",
    "                          weights[\"wc5\"],\n",
    "                          biases[\"bc5\"])\n",
    "    pooled_conv_layer_5 = max_pool(conv_layer_5,\n",
    "                                   kernel_size=pooling_kernel_sizes[4])\n",
    "    conv_layer_6 = conv2d(pooled_conv_layer_5,\n",
    "                          weights[\"wc6\"],\n",
    "                          biases[\"bc6\"])\n",
    "    pooled_conv_layer_6 = max_pool(conv_layer_6,\n",
    "                                   kernel_size=pooling_kernel_sizes[5])\n",
    "    fully_connected_layer = tf.reshape(pooled_conv_layer_6,\n",
    "                                       [-1, weights[\"wd1\"].get_shape().as_list()[0]])\n",
    "    fully_connected_layer = tf.add(tf.matmul(fully_connected_layer,\n",
    "                                             weights[\"wd1\"]),\n",
    "                                   biases[\"bd1\"])\n",
    "    fully_connected_layer = tf.nn.relu(fully_connected_layer)\n",
    "    out = tf.add(tf.matmul(fully_connected_layer,\n",
    "                           weights[\"out\"]),\n",
    "                 biases[\"out\"])\n",
    "    return out"
   ]
  },
  {
   "cell_type": "code",
   "execution_count": 9,
   "metadata": {},
   "outputs": [],
   "source": [
    "predicted_labels = conv_net(X, weights, biases)\n",
    "find_loss = tf.reduce_mean(tf.nn.softmax_cross_entropy_with_logits_v2(logits=predicted_labels,\n",
    "                                                              labels=y))\n",
    "optimizer = tf.train.AdamOptimizer(learning_rate=learning_rate).minimize(find_loss)\n",
    "\n",
    "is_correct_prediction = tf.equal(tf.argmax(predicted_labels, 1), tf.argmax(y, 1))\n",
    "find_accuracy = tf.reduce_mean(tf.cast(is_correct_prediction, tf.float32))"
   ]
  },
  {
   "cell_type": "code",
   "execution_count": 10,
   "metadata": {
    "scrolled": false
   },
   "outputs": [
    {
     "name": "stdout",
     "output_type": "stream",
     "text": [
      "Epoch 1, Training Loss: 0.020019, Training Accuracy: 0.99219\n",
      "Epoch 2, Training Loss: 0.015520, Training Accuracy: 0.99609\n",
      "Epoch 3, Training Loss: 0.008000, Training Accuracy: 1.00000\n",
      "Epoch 4, Training Loss: 0.003867, Training Accuracy: 1.00000\n",
      "Epoch 5, Training Loss: 0.002661, Training Accuracy: 1.00000\n",
      "Epoch 6, Training Loss: 0.004003, Training Accuracy: 1.00000\n",
      "Epoch 7, Training Loss: 0.002452, Training Accuracy: 1.00000\n",
      "Epoch 8, Training Loss: 0.001522, Training Accuracy: 1.00000\n",
      "Epoch 9, Training Loss: 0.000975, Training Accuracy: 1.00000\n",
      "Epoch 10, Training Loss: 0.000840, Training Accuracy: 1.00000\n",
      "Epoch 11, Training Loss: 0.000715, Training Accuracy: 1.00000\n",
      "Epoch 12, Training Loss: 0.000193, Training Accuracy: 1.00000\n",
      "Epoch 13, Training Loss: 0.001122, Training Accuracy: 1.00000\n",
      "Epoch 14, Training Loss: 0.000196, Training Accuracy: 1.00000\n",
      "Epoch 15, Training Loss: 0.000613, Training Accuracy: 1.00000\n",
      "Epoch 16, Training Loss: 0.000315, Training Accuracy: 1.00000\n",
      "Epoch 17, Training Loss: 0.000700, Training Accuracy: 1.00000\n",
      "Epoch 18, Training Loss: 0.000115, Training Accuracy: 1.00000\n",
      "Epoch 19, Training Loss: 0.000054, Training Accuracy: 1.00000\n",
      "Epoch 20, Training Loss: 0.000583, Training Accuracy: 1.00000\n",
      "Test Loss: 0.013379, Test Accuracy: 0.99770\n"
     ]
    }
   ],
   "source": [
    "init = tf.global_variables_initializer()\n",
    "with tf.Session() as sess:\n",
    "    sess.run(init)\n",
    "    train_loss = []\n",
    "    train_accuracy = []\n",
    "    summary_writer = tf.summary.FileWriter('./output', sess.graph)\n",
    "    for epoch in range(num_epochs):\n",
    "        for batch in range(len(train_X) // batch_size):\n",
    "            batch_X = train_X[batch * batch_size : min((batch + 1) * batch_size, len(train_X))]\n",
    "            batch_y = train_y[batch * batch_size : min((batch + 1) * batch_size, len(train_y))] \n",
    "            opt = sess.run(optimizer, feed_dict={X: batch_X, y: batch_y})\n",
    "            # Calculate batch loss and accuracy.\n",
    "            batch_loss, batch_accuracy = sess.run([find_loss, find_accuracy],\n",
    "                                 feed_dict={X: batch_X, y: batch_y})\n",
    "            train_loss.append(batch_loss)\n",
    "            train_accuracy.append(batch_accuracy)\n",
    "        print(\"Epoch \" + str(epoch + 1) + \\\n",
    "              \", Training Loss: \" + \"{:.6f}\".format(batch_loss) + \\\n",
    "              \", Training Accuracy: \" + \"{:.5f}\".format(batch_accuracy))\n",
    "\n",
    "    test_loss = []\n",
    "    test_accuracy = []\n",
    "    # Feeding the whole test set (> 5000 examples) takes more memory than we have (~11 GB).\n",
    "    # Therefore, find \"test_loss\" and \"test_accuracy\" by taking batches of the test set.\n",
    "    for batch in range(len(test_X)):\n",
    "        batch_X = test_X[batch: min(batch + 1, len(test_X))]\n",
    "        batch_y = test_y[batch: min(batch + 1, len(test_y))] \n",
    "        # Calculate batch loss and accuracy.\n",
    "        batch_loss, batch_accuracy = sess.run([find_loss, find_accuracy],\n",
    "                                              feed_dict={X: batch_X, y: batch_y})\n",
    "        test_loss.append(batch_loss)\n",
    "        test_accuracy.append(batch_accuracy)\n",
    "    overall_loss = np.mean(test_loss)\n",
    "    overall_accuracy = np.mean(test_accuracy)\n",
    "    print(\"Test Loss: \" + \"{:.6f}\".format(overall_loss) + \\\n",
    "          \", Test Accuracy: \" + \"{:.5f}\".format(overall_accuracy))\n",
    "\n",
    "    summary_writer.close()"
   ]
  },
  {
   "cell_type": "code",
   "execution_count": 11,
   "metadata": {},
   "outputs": [
    {
     "data": {
      "image/png": "[encoded data removed]",
      "text/plain": [
       "<Figure size 432x288 with 1 Axes>"
      ]
     },
     "metadata": {},
     "output_type": "display_data"
    },
    {
     "data": {
      "text/plain": [
       "<Figure size 432x288 with 0 Axes>"
      ]
     },
     "metadata": {},
     "output_type": "display_data"
    }
   ],
   "source": [
    "plt.plot(range(len(train_loss)),\n",
    "         train_loss,\n",
    "         \"b\",\n",
    "         label=\"Training Loss\")\n",
    "plt.title(\"Training Loss\")\n",
    "plt.xlabel(\"Iterations\",\n",
    "           fontsize=16)\n",
    "plt.ylabel(\"Loss\",\n",
    "           fontsize=16)\n",
    "plt.legend()\n",
    "plt.figure()\n",
    "plt.show()"
   ]
  },
  {
   "cell_type": "code",
   "execution_count": 12,
   "metadata": {},
   "outputs": [
    {
     "data": {
      "image/png": "[encoded data removed]",
      "text/plain": [
       "<Figure size 432x288 with 1 Axes>"
      ]
     },
     "metadata": {},
     "output_type": "display_data"
    },
    {
     "data": {
      "text/plain": [
       "<Figure size 432x288 with 0 Axes>"
      ]
     },
     "metadata": {},
     "output_type": "display_data"
    }
   ],
   "source": [
    "plt.plot(range(len(train_accuracy)),\n",
    "         train_accuracy,\n",
    "         \"b\",\n",
    "         label=\"Training Accuracy\")\n",
    "plt.title(\"Training Accuracy\")\n",
    "plt.xlabel(\"Iterations\",\n",
    "           fontsize=16)\n",
    "plt.ylabel(\"Accuracy\",\n",
    "           fontsize=16)\n",
    "plt.legend()\n",
    "plt.figure()\n",
    "plt.show()"
   ]
  }
 ],
 "metadata": {
  "kernelspec": {
   "display_name": "Python 3",
   "language": "python",
   "name": "python3"
  },
  "language_info": {
   "codemirror_mode": {
    "name": "ipython",
    "version": 3
   },
   "file_extension": ".py",
   "mimetype": "text/x-python",
   "name": "python",
   "nbconvert_exporter": "python",
   "pygments_lexer": "ipython3",
   "version": "3.6.5"
  }
 },
 "nbformat": 4,
 "nbformat_minor": 2
}
