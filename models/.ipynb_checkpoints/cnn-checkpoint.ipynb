{
 "cells": [
  {
   "cell_type": "code",
   "execution_count": 1,
   "metadata": {},
   "outputs": [],
   "source": [
    "import os\n",
    "import pickle\n",
    "\n",
    "import numpy as np\n",
    "import matplotlib.pyplot as plt\n",
    "import tensorflow as tf # Version 1.9\n",
    "\n",
    "#os.environ[\"CUDA_VISIBLE_DEVICES\"]=\"0\" # For training on a GPU.\n",
    "\n",
    "%matplotlib inline\n",
    "\n",
    "\n",
    "class MacOSFile():\n",
    "\n",
    "    def __init__(self, f):\n",
    "        self.f = f\n",
    "\n",
    "    def __getattr__(self, item):\n",
    "        return getattr(self.f, item)\n",
    "\n",
    "    def read(self, n):\n",
    "        print(\"Reading total_bytes=%s\" % n, flush=True)\n",
    "        if n >= (1 << 31):\n",
    "            buffer = bytearray(n)\n",
    "            idx = 0\n",
    "            while idx < n:\n",
    "                batch_size = min(n - idx, 1 << 31 - 1)\n",
    "                print(\"Reading bytes [%s,%s)...\" % (idx, idx + batch_size),\n",
    "                      end=\"\", flush=True)\n",
    "                buffer[idx:idx + batch_size] = self.f.read(batch_size)\n",
    "                print(\"Done.\", flush=True)\n",
    "                idx += batch_size\n",
    "            return buffer\n",
    "        return self.f.read(n)\n",
    "\n",
    "    def write(self, buffer):\n",
    "        n = len(buffer)\n",
    "        print(\"writing total_bytes=%s...\" % n, flush=True)\n",
    "        idx = 0\n",
    "        while idx < n:\n",
    "            batch_size = min(n - idx, 1 << 31 - 1)\n",
    "            print(\"writing bytes [%s, %s)... \" % (idx, idx + batch_size),\n",
    "                  end=\"\", flush=True)\n",
    "            self.f.write(buffer[idx:idx + batch_size])\n",
    "            print(\"done.\", flush=True)\n",
    "            idx += batch_size\n",
    "\n",
    "def pickle_load(file_path):\n",
    "    \"\"\"Wrapper of pickle.load\"\"\"\n",
    "    with open(file_path, \"rb\") as f:\n",
    "        return pickle.load(MacOSFile(f))"
   ]
  },
  {
   "cell_type": "code",
   "execution_count": 2,
   "metadata": {},
   "outputs": [
    {
     "name": "stdout",
     "output_type": "stream",
     "text": [
      "Reading total_bytes=11\n",
      "Reading total_bytes=8213102745\n",
      "Reading bytes [0,1073741824)...Done.\n",
      "Reading bytes [1073741824,2147483648)...Done.\n",
      "Reading bytes [2147483648,3221225472)...Done.\n",
      "Reading bytes [3221225472,4294967296)...Done.\n",
      "Reading bytes [4294967296,5368709120)...Done.\n",
      "Reading bytes [5368709120,6442450944)...Done.\n",
      "Reading bytes [6442450944,7516192768)...Done.\n",
      "Reading bytes [7516192768,8213102745)...Done.\n",
      "Reading total_bytes=334347\n",
      "Reading total_bytes=11\n",
      "Reading total_bytes=2566914197\n",
      "Reading bytes [0,1073741824)...Done.\n",
      "Reading bytes [1073741824,2147483648)...Done.\n",
      "Reading bytes [2147483648,2566914197)...Done.\n",
      "Reading total_bytes=104603\n"
     ]
    }
   ],
   "source": [
    "# Load train and test sets.\n",
    "tuning_hyperparams = False\n",
    "train_X = pickle_load(\"../data/pickles/train_X.npy\")\n",
    "train_y = pickle_load(\"../data/pickles/train_y.npy\")\n",
    "if tuning_hyperparams:\n",
    "    test_X = pickle_load(\"../data/pickles/validation_X.npy\")\n",
    "    test_y = pickle_load(\"../data/pickles/validation_y.npy\")\n",
    "else:\n",
    "    test_X = pickle_load(\"../data/pickles/test_X.npy\")\n",
    "    test_y = pickle_load(\"../data/pickles/test_y.npy\")"
   ]
  },
  {
   "cell_type": "code",
   "execution_count": 3,
   "metadata": {
    "scrolled": true
   },
   "outputs": [
    {
     "name": "stdout",
     "output_type": "stream",
     "text": [
      "Training set (images) shape: (20887, 128, 128, 3)\n",
      "Training set (labels) shape: (20887, 2)\n",
      "Test set (images) shape: (6528, 128, 128, 3)\n",
      "Test set (labels) shape: (6528, 2)\n"
     ]
    }
   ],
   "source": [
    "# Get shape of training set.\n",
    "print(\"Training set (images) shape: {shape}\".format(shape=train_X.shape))\n",
    "print(\"Training set (labels) shape: {shape}\".format(shape=train_y.shape))\n",
    "# Get shape of test set.\n",
    "print(\"Test set (images) shape: {shape}\".format(shape=test_X.shape))\n",
    "print(\"Test set (labels) shape: {shape}\".format(shape=test_y.shape))\n",
    "# Set input details.\n",
    "image_size = 128\n",
    "num_channels = 3\n",
    "num_classes = 2\n",
    "X = tf.placeholder(\"float\", [None, image_size, image_size, num_channels])\n",
    "y = tf.placeholder(\"float\", [None, num_classes])"
   ]
  },
  {
   "cell_type": "code",
   "execution_count": 4,
   "metadata": {},
   "outputs": [],
   "source": [
    "# Set key hyperparameters.\n",
    "training_iters = 200\n",
    "learning_rate = 0.001\n",
    "batch_size = 1\n",
    "num_hidden_layers = 3\n",
    "num_filters_per_layer = [32, 64, 128]\n",
    "filter_sizes = [5, 3, 5]"
   ]
  },
  {
   "cell_type": "code",
   "execution_count": 5,
   "metadata": {},
   "outputs": [],
   "source": [
    "def conv2d(X, W, b, stride=1):\n",
    "    \"\"\"tf.nn.conv2d() wrapper, with bias and relu activation.\"\"\"\n",
    "    # The first and last element of \"strides\" is example and\n",
    "    # channel stride respectively.\n",
    "    X = tf.nn.conv2d(X, W,\n",
    "                     strides=[1, stride, stride, 1],\n",
    "                     padding=\"SAME\")\n",
    "    X = tf.nn.bias_add(X, b)\n",
    "    return tf.nn.relu(X)\n",
    "\n",
    "def max_pool(X, kernel_size=2):\n",
    "    # Stride of the kernel is always >= its size to prevent\n",
    "    # overlap of pooling region.\n",
    "    return tf.nn.max_pool(X,\n",
    "                          ksize=[1, kernel_size, kernel_size, 1],\n",
    "                          strides=[1, kernel_size, kernel_size, 1],\n",
    "                          padding=\"SAME\")"
   ]
  },
  {
   "cell_type": "code",
   "execution_count": 6,
   "metadata": {},
   "outputs": [],
   "source": [
    "# Create dictionaries for the weight and bias parameters.\n",
    "weights = {\n",
    "    \"wc1\": tf.get_variable(\"W0\",\n",
    "                           shape=(filter_sizes[0],\n",
    "                                  filter_sizes[0],\n",
    "                                  num_channels,\n",
    "                                  num_filters_per_layer[0]),\n",
    "                           initializer=tf.contrib.layers.xavier_initializer()), \n",
    "    \"wc2\": tf.get_variable(\"W1\",\n",
    "                           shape=(filter_sizes[1],\n",
    "                                  filter_sizes[1],\n",
    "                                  num_filters_per_layer[0],\n",
    "                                  num_filters_per_layer[1]),\n",
    "                           initializer=tf.contrib.layers.xavier_initializer()), \n",
    "    \"wc3\": tf.get_variable(\"W2\",\n",
    "                           shape=(filter_sizes[2],\n",
    "                                  filter_sizes[2],\n",
    "                                  num_filters_per_layer[1],\n",
    "                                  num_filters_per_layer[2]),\n",
    "                           initializer=tf.contrib.layers.xavier_initializer()), \n",
    "    \"wd1\": tf.get_variable(\"W3\",\n",
    "                           shape=(16 * 16 * num_filters_per_layer[2],\n",
    "                                  num_filters_per_layer[2]),\n",
    "                           initializer=tf.contrib.layers.xavier_initializer()), \n",
    "    \"out\": tf.get_variable(\"W6\",\n",
    "                           shape=(num_filters_per_layer[2],\n",
    "                                  num_classes),\n",
    "                           initializer=tf.contrib.layers.xavier_initializer()), \n",
    "}\n",
    "\n",
    "biases = {\n",
    "    \"bc1\": tf.get_variable(\"B0\",\n",
    "                           shape=(num_filters_per_layer[0]),\n",
    "                           initializer=tf.contrib.layers.xavier_initializer()),\n",
    "    \"bc2\": tf.get_variable(\"B1\",\n",
    "                           shape=(num_filters_per_layer[1]),\n",
    "                           initializer=tf.contrib.layers.xavier_initializer()),\n",
    "    \"bc3\": tf.get_variable(\"B2\",\n",
    "                           shape=(num_filters_per_layer[2]),\n",
    "                           initializer=tf.contrib.layers.xavier_initializer()),\n",
    "    \"bd1\": tf.get_variable(\"B3\",\n",
    "                           shape=(num_filters_per_layer[2]),\n",
    "                           initializer=tf.contrib.layers.xavier_initializer()),\n",
    "    \"out\": tf.get_variable(\"B4\",\n",
    "                           shape=(num_classes),\n",
    "                           initializer=tf.contrib.layers.xavier_initializer()),\n",
    "}"
   ]
  },
  {
   "cell_type": "code",
   "execution_count": 7,
   "metadata": {},
   "outputs": [],
   "source": [
    "def conv_net(X, weights, biases):  \n",
    "    conv_layer_1 = conv2d(X,\n",
    "                          weights[\"wc1\"],\n",
    "                          biases[\"bc1\"])\n",
    "    pooled_conv_layer_1 = max_pool(conv_layer_1,\n",
    "                                   kernel_size=2)\n",
    "    conv_layer_2 = conv2d(pooled_conv_layer_1,\n",
    "                          weights[\"wc2\"],\n",
    "                          biases[\"bc2\"])\n",
    "    pooled_conv_layer_2 = max_pool(conv_layer_2,\n",
    "                                   kernel_size=2)\n",
    "    conv_layer_3 = conv2d(pooled_conv_layer_2,\n",
    "                          weights[\"wc3\"],\n",
    "                          biases[\"bc3\"])\n",
    "    pooled_conv_layer_3 = max_pool(conv_layer_3,\n",
    "                                   kernel_size=2)\n",
    "    fully_connected_layer = tf.reshape(pooled_conv_layer_3,\n",
    "                                       [-1, weights[\"wd1\"].get_shape().as_list()[0]])\n",
    "    fully_connected_layer = tf.add(tf.matmul(fully_connected_layer,\n",
    "                                             weights[\"wd1\"]),\n",
    "                                   biases[\"bd1\"])\n",
    "    fully_connected_layer = tf.nn.relu(fully_connected_layer)\n",
    "    out = tf.add(tf.matmul(fully_connected_layer,\n",
    "                           weights[\"out\"]),\n",
    "                 biases[\"out\"])\n",
    "    return out"
   ]
  },
  {
   "cell_type": "code",
   "execution_count": 8,
   "metadata": {},
   "outputs": [
    {
     "name": "stdout",
     "output_type": "stream",
     "text": [
      "WARNING:tensorflow:From <ipython-input-8-116e65593676>:3: softmax_cross_entropy_with_logits (from tensorflow.python.ops.nn_ops) is deprecated and will be removed in a future version.\n",
      "Instructions for updating:\n",
      "\n",
      "Future major versions of TensorFlow will allow gradients to flow\n",
      "into the labels input on backprop by default.\n",
      "\n",
      "See @{tf.nn.softmax_cross_entropy_with_logits_v2}.\n",
      "\n"
     ]
    }
   ],
   "source": [
    "predicted_labels = conv_net(X, weights, biases)\n",
    "cost = tf.reduce_mean(tf.nn.softmax_cross_entropy_with_logits(logits=predicted_labels,\n",
    "                                                              labels=y))\n",
    "optimizer = tf.train.AdamOptimizer(learning_rate=learning_rate).minimize(cost)\n",
    "is_correct_prediction = tf.equal(tf.argmax(predicted_labels, 1), tf.argmax(y, 1))\n",
    "accuracy = tf.reduce_mean(tf.cast(is_correct_prediction, tf.float32))"
   ]
  },
  {
   "cell_type": "code",
   "execution_count": 9,
   "metadata": {},
   "outputs": [
    {
     "name": "stderr",
     "output_type": "stream",
     "text": [
      "ERROR:root:Internal Python error in the inspect module.\n",
      "Below is the traceback from this internal error.\n",
      "\n"
     ]
    },
    {
     "name": "stdout",
     "output_type": "stream",
     "text": [
      "Traceback (most recent call last):\n",
      "  File \"/Library/Frameworks/Python.framework/Versions/3.6/lib/python3.6/site-packages/IPython/core/interactiveshell.py\", line 2963, in run_code\n",
      "    exec(code_obj, self.user_global_ns, self.user_ns)\n",
      "  File \"<ipython-input-9-9f25fdbf69b5>\", line 14, in <module>\n",
      "    opt = sess.run(optimizer, feed_dict={X: batch_X, y: batch_y})\n",
      "  File \"/Library/Frameworks/Python.framework/Versions/3.6/lib/python3.6/site-packages/tensorflow/python/client/session.py\", line 900, in run\n",
      "    run_metadata_ptr)\n",
      "  File \"/Library/Frameworks/Python.framework/Versions/3.6/lib/python3.6/site-packages/tensorflow/python/client/session.py\", line 1135, in _run\n",
      "    feed_dict_tensor, options, run_metadata)\n",
      "  File \"/Library/Frameworks/Python.framework/Versions/3.6/lib/python3.6/site-packages/tensorflow/python/client/session.py\", line 1316, in _do_run\n",
      "    run_metadata)\n",
      "  File \"/Library/Frameworks/Python.framework/Versions/3.6/lib/python3.6/site-packages/tensorflow/python/client/session.py\", line 1322, in _do_call\n",
      "    return fn(*args)\n",
      "  File \"/Library/Frameworks/Python.framework/Versions/3.6/lib/python3.6/site-packages/tensorflow/python/client/session.py\", line 1307, in _run_fn\n",
      "    options, feed_dict, fetch_list, target_list, run_metadata)\n",
      "  File \"/Library/Frameworks/Python.framework/Versions/3.6/lib/python3.6/site-packages/tensorflow/python/client/session.py\", line 1409, in _call_tf_sessionrun\n",
      "    run_metadata)\n",
      "KeyboardInterrupt\n",
      "\n",
      "During handling of the above exception, another exception occurred:\n",
      "\n",
      "Traceback (most recent call last):\n",
      "  File \"/Library/Frameworks/Python.framework/Versions/3.6/lib/python3.6/site-packages/IPython/core/interactiveshell.py\", line 1863, in showtraceback\n",
      "    stb = value._render_traceback_()\n",
      "AttributeError: 'KeyboardInterrupt' object has no attribute '_render_traceback_'\n",
      "\n",
      "During handling of the above exception, another exception occurred:\n",
      "\n",
      "Traceback (most recent call last):\n",
      "  File \"/Library/Frameworks/Python.framework/Versions/3.6/lib/python3.6/site-packages/IPython/core/ultratb.py\", line 1095, in get_records\n",
      "    return _fixed_getinnerframes(etb, number_of_lines_of_context, tb_offset)\n",
      "  File \"/Library/Frameworks/Python.framework/Versions/3.6/lib/python3.6/site-packages/IPython/core/ultratb.py\", line 311, in wrapped\n",
      "    return f(*args, **kwargs)\n",
      "  File \"/Library/Frameworks/Python.framework/Versions/3.6/lib/python3.6/site-packages/IPython/core/ultratb.py\", line 345, in _fixed_getinnerframes\n",
      "    records = fix_frame_records_filenames(inspect.getinnerframes(etb, context))\n",
      "  File \"/Library/Frameworks/Python.framework/Versions/3.6/lib/python3.6/inspect.py\", line 1483, in getinnerframes\n",
      "    frameinfo = (tb.tb_frame,) + getframeinfo(tb, context)\n",
      "  File \"/Library/Frameworks/Python.framework/Versions/3.6/lib/python3.6/inspect.py\", line 1455, in getframeinfo\n",
      "    return Traceback(filename, lineno, frame.f_code.co_name, lines, index)\n",
      "  File \"<string>\", line 12, in __new__\n",
      "KeyboardInterrupt\n"
     ]
    },
    {
     "ename": "KeyboardInterrupt",
     "evalue": "",
     "output_type": "error",
     "traceback": [
      "\u001b[0;31m---------------------------------------------------------------------------\u001b[0m"
     ]
    }
   ],
   "source": [
    "init = tf.global_variables_initializer()\n",
    "with tf.Session() as sess:\n",
    "    sess.run(init)\n",
    "    train_loss = []\n",
    "    test_loss = []\n",
    "    train_accuracy = []\n",
    "    test_accuracy = []\n",
    "    summary_writer = tf.summary.FileWriter('./Output', sess.graph)\n",
    "    for i in range(training_iters):\n",
    "        for batch in range(len(train_X) // batch_size):\n",
    "            batch_X = train_X[batch * batch_size:min((batch+1) * batch_size, len(train_X))]\n",
    "            batch_y = train_y[batch * batch_size:min((batch+1) * batch_size, len(train_y))] \n",
    "            # Calculate batch loss and accuracy\n",
    "            opt = sess.run(optimizer, feed_dict={X: batch_X, y: batch_y})\n",
    "            loss, acc = sess.run([cost, accuracy], feed_dict={X: batch_X, y: batch_y})\n",
    "        print(\"Iter \" + str(i) + \", Loss= \" + \\\n",
    "              \"{:.6f}\".format(loss) + \", Training Accuracy= \" + \\\n",
    "              \"{:.5f}\".format(acc))\n",
    "        print(\"Optimization Finished!\")\n",
    "        \n",
    "        test_acc,valid_loss = sess.run([accuracy,cost], feed_dict={X: test_X,y : test_y})\n",
    "        train_loss.append(loss)\n",
    "        train_accuracy.append(acc)\n",
    "        test_accuracy.append(test_acc)\n",
    "        print(\"Testing Accuracy:\",\"{:.5f}\".format(test_acc))\n",
    "    summary_writer.close()\n",
    "sess.close()"
   ]
  },
  {
   "cell_type": "code",
   "execution_count": null,
   "metadata": {},
   "outputs": [],
   "source": [
    "plt.plot(range(len(train_loss)), train_loss, \"b\", label=\"Training loss\")\n",
    "plt.plot(range(len(train_loss)), test_loss, \"r\", label=\"Test loss\")\n",
    "plt.title(\"Training and Test loss\")\n",
    "plt.xlabel(\"Epochs \", fontsize=16)\n",
    "plt.ylabel(\"Loss\", fontsize=16)\n",
    "plt.legend()\n",
    "plt.figure()\n",
    "plt.show()"
   ]
  },
  {
   "cell_type": "code",
   "execution_count": null,
   "metadata": {},
   "outputs": [],
   "source": [
    "plt.plot(range(len(train_loss)), train_accuracy, \"b\", label=\"Training Accuracy\"\n",
    "plt.plot(range(len(train_loss)), test_accuracy, \"r\", label=\"Test Accuracy\")\n",
    "plt.title(\"Training and Test Accuracy\")\n",
    "plt.xlabel(\"Epochs \",fontsize=16)\n",
    "plt.ylabel(\"Loss\", fontsize=16)\n",
    "plt.legend()\n",
    "plt.figure()"
   ]
  }
 ],
 "metadata": {
  "kernelspec": {
   "display_name": "Python 3",
   "language": "python",
   "name": "python3"
  },
  "language_info": {
   "codemirror_mode": {
    "name": "ipython",
    "version": 3
   },
   "file_extension": ".py",
   "mimetype": "text/x-python",
   "name": "python",
   "nbconvert_exporter": "python",
   "pygments_lexer": "ipython3",
   "version": "3.6.5"
  }
 },
 "nbformat": 4,
 "nbformat_minor": 2
}
